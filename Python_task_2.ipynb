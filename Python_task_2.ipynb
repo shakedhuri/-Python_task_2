{
 "cells": [
  {
   "cell_type": "code",
   "execution_count": 134,
   "id": "531b68b8-8672-4b2e-9889-dbcb57f6a7cb",
   "metadata": {},
   "outputs": [],
   "source": [
    "import pandas as pd \n",
    "%matplotlib inline \n",
    "import numpy as np\n",
    "import matplotlib.pyplot as plt \n",
    "import datetime as dt\n",
    "import re"
   ]
  },
  {
   "cell_type": "code",
   "execution_count": 135,
   "id": "ec992aeb-7c77-41d0-9d4d-c233710e8d86",
   "metadata": {},
   "outputs": [],
   "source": [
    "path = \"C:/Users/shake/.jupyter/EX2/\"\n",
    "filename = \"matala2_cosmetics_2019-Nov.csv\"\n",
    "datafile = path + filename"
   ]
  },
  {
   "cell_type": "code",
   "execution_count": 136,
   "id": "3d61a21f-affd-496a-bb1c-6bcb0ec37cb7",
   "metadata": {},
   "outputs": [
    {
     "name": "stderr",
     "output_type": "stream",
     "text": [
      "C:\\Users\\shake\\AppData\\Local\\Temp\\ipykernel_33132\\64639844.py:1: DtypeWarning: Columns (6) have mixed types. Specify dtype option on import or set low_memory=False.\n",
      "  data_1 = pd.read_csv(datafile)\n"
     ]
    }
   ],
   "source": [
    "data_1 = pd.read_csv(datafile)\n",
    "data = data_1.copy()"
   ]
  },
  {
   "cell_type": "markdown",
   "id": "6531270a-94a7-49fb-8fa3-1490c9604a23",
   "metadata": {},
   "source": [
    "סעיף א"
   ]
  },
  {
   "cell_type": "code",
   "execution_count": 138,
   "id": "ba972c61-4db7-48c2-8200-10e9673d08b1",
   "metadata": {},
   "outputs": [],
   "source": [
    "data['event_time'] = pd.to_datetime(data['event_time'])"
   ]
  },
  {
   "cell_type": "code",
   "execution_count": 139,
   "id": "2bfdb89c-fb67-4e1e-a9bf-a1374b6e0838",
   "metadata": {},
   "outputs": [],
   "source": [
    "data = data.sort_values(['user_session', 'event_time','user_id'])"
   ]
  },
  {
   "cell_type": "code",
   "execution_count": 140,
   "id": "197670bd-95d7-4c25-9e0d-cb445802ff0f",
   "metadata": {},
   "outputs": [],
   "source": [
    "data['duration_to_next_event'] = (data.groupby('user_session')['event_time'].diff().dt.total_seconds().shift(-1).fillna(0))"
   ]
  },
  {
   "cell_type": "code",
   "execution_count": 141,
   "id": "34f93194-069f-446b-8a0f-1aaead918b9e",
   "metadata": {},
   "outputs": [],
   "source": [
    "last_event_mask = data['user_id'] != data['user_id'].shift(-1)\n",
    "data.loc[last_event_mask, 'duration_to_next_event'] = 0"
   ]
  },
  {
   "cell_type": "markdown",
   "id": "c2b4fabf-15ad-45ea-8196-34e6f4cb401d",
   "metadata": {},
   "source": [
    "סעיף ב"
   ]
  },
  {
   "cell_type": "code",
   "execution_count": 166,
   "id": "d2a0501c-e85d-45d0-85b1-8b56bacb0d68",
   "metadata": {},
   "outputs": [],
   "source": [
    "data['days_diff'] = data.groupby('user_id')['event_time'].diff().dt.days"
   ]
  },
  {
   "cell_type": "code",
   "execution_count": 167,
   "id": "1f355ffc-64c3-4edc-9311-a64e23ae0089",
   "metadata": {},
   "outputs": [],
   "source": [
    "colm = data['days_diff'] > 5"
   ]
  },
  {
   "cell_type": "code",
   "execution_count": 168,
   "id": "672d1106-0b02-4dd0-a6d8-285bae434322",
   "metadata": {},
   "outputs": [],
   "source": [
    "funnel_numbers = colm.groupby(data['user_id']).cumsum() + 1"
   ]
  },
  {
   "cell_type": "code",
   "execution_count": 169,
   "id": "b55eed44-e792-4285-89ce-b21a09eec10e",
   "metadata": {},
   "outputs": [],
   "source": [
    "funnel_numbers = funnel_numbers.fillna(0)"
   ]
  },
  {
   "cell_type": "code",
   "execution_count": 170,
   "id": "a6db44c1-e1c1-4fc2-814d-0f82a28f6a2f",
   "metadata": {},
   "outputs": [],
   "source": [
    "data['funnel_number'] = funnel_numbers"
   ]
  },
  {
   "cell_type": "code",
   "execution_count": 171,
   "id": "dd2a3082-126d-4695-8197-273b5488fff0",
   "metadata": {},
   "outputs": [
    {
     "data": {
      "text/plain": [
       "1    3764583\n",
       "2     766527\n",
       "3     101191\n",
       "4       3535\n",
       "5          1\n",
       "Name: funnel_number, dtype: int64"
      ]
     },
     "execution_count": 171,
     "metadata": {},
     "output_type": "execute_result"
    }
   ],
   "source": [
    "data['funnel_number'].value_counts()"
   ]
  },
  {
   "cell_type": "markdown",
   "id": "60e1f817-9b22-412e-ad8c-a0fe0a89008e",
   "metadata": {},
   "source": [
    "סעיף ג"
   ]
  },
  {
   "cell_type": "code",
   "execution_count": 180,
   "id": "6710b457-58ee-405f-b0e8-8ed80f984b6a",
   "metadata": {},
   "outputs": [],
   "source": [
    "data['index_in_funnel'] = data.groupby(['user_id', 'funnel_number', 'user_session']).cumcount() + 1"
   ]
  },
  {
   "cell_type": "markdown",
   "id": "07d99f7a-4cfb-4c8d-89a9-c4077d7f5de4",
   "metadata": {},
   "source": [
    "סעיף ד"
   ]
  },
  {
   "cell_type": "code",
   "execution_count": 148,
   "id": "1a990ff9-9305-4c6c-af7a-7fd6af53c97d",
   "metadata": {},
   "outputs": [],
   "source": [
    "data['price'] = data['price'].apply(lambda x: float(x) if isinstance(x,float) else float(re.sub(r'[^\\d\\.]+', '', x)))"
   ]
  },
  {
   "cell_type": "markdown",
   "id": "17afcfbe-d76c-4bb8-bd86-f46552d36097",
   "metadata": {},
   "source": [
    "סעיף ה"
   ]
  },
  {
   "cell_type": "code",
   "execution_count": 150,
   "id": "b9f474a7-8e30-4dbf-ace1-a29fab8da404",
   "metadata": {},
   "outputs": [
    {
     "name": "stdout",
     "output_type": "stream",
     "text": [
      "view                2076132\n",
      "cart                1311807\n",
      "remove_from_cart     925481\n",
      "purchase             322417\n",
      "Name: event_type, dtype: int64\n"
     ]
    }
   ],
   "source": [
    "print(data['event_type'].value_counts())"
   ]
  },
  {
   "cell_type": "code",
   "execution_count": 151,
   "id": "55e6636d-e80c-4afd-8784-79e05c79baf0",
   "metadata": {},
   "outputs": [],
   "source": [
    "import matplotlib.pyplot as plt"
   ]
  },
  {
   "cell_type": "code",
   "execution_count": 152,
   "id": "cf1dc819-6c4c-4633-8117-5e3db472c401",
   "metadata": {},
   "outputs": [],
   "source": [
    "event_counts = data['event_type'].value_counts()"
   ]
  },
  {
   "cell_type": "code",
   "execution_count": 153,
   "id": "dd932fc3-4393-46ce-8d9a-9a0829ae1583",
   "metadata": {},
   "outputs": [
    {
     "data": {
      "image/png": "[encoded data removed]",
      "text/plain": [
       "<Figure size 432x288 with 1 Axes>"
      ]
     },
     "metadata": {
      "needs_background": "light"
     },
     "output_type": "display_data"
    }
   ],
   "source": [
    "event_counts.plot(kind='bar')\n",
    "plt.title('Number of events by type')\n",
    "plt.xlabel('Event type')\n",
    "plt.ylabel('Number of events')\n",
    "plt.show()"
   ]
  },
  {
   "cell_type": "markdown",
   "id": "373048ea-717d-46eb-ad03-4cb7316dc581",
   "metadata": {},
   "source": [
    "סעיף ו"
   ]
  },
  {
   "cell_type": "code",
   "execution_count": 200,
   "id": "4aebddd6-5829-4d1e-8884-932fa6b3017d",
   "metadata": {},
   "outputs": [],
   "source": [
    "session_data = pd.DataFrame()"
   ]
  },
  {
   "cell_type": "code",
   "execution_count": 201,
   "id": "6c19a3c8-f6d6-4986-bcfe-e99d24a6889c",
   "metadata": {},
   "outputs": [],
   "source": [
    "session_data['user_id'] = data.drop_duplicates(subset=['user_id', 'user_session'])['user_id'].reset_index(drop=True)"
   ]
  },
  {
   "cell_type": "code",
   "execution_count": 202,
   "id": "76014cc0-1bde-42a0-9cb8-2161f7ac4438",
   "metadata": {},
   "outputs": [],
   "source": [
    "session_data['user_session'] = data.drop_duplicates(subset=['user_id', 'user_session'])['user_session'].reset_index(drop=True)"
   ]
  },
  {
   "cell_type": "code",
   "execution_count": 203,
   "id": "7d981227-5ff1-49ad-b9e2-9fed52d73e5b",
   "metadata": {},
   "outputs": [],
   "source": [
    "session_data['funnel_number'] = data.drop_duplicates(subset=['user_id', 'user_session'])['funnel_number'].reset_index(drop=True)"
   ]
  },
  {
   "cell_type": "code",
   "execution_count": 204,
   "id": "1f3e96ce-2e16-453d-9e06-1fd83ef1a442",
   "metadata": {},
   "outputs": [],
   "source": [
    "session_data['index_in_funnel'] = data.drop_duplicates(subset=['user_id', 'user_session'])['index_in_funnel'].reset_index(drop=True)"
   ]
  },
  {
   "cell_type": "code",
   "execution_count": 205,
   "id": "ffeec32e-17b7-4637-84d3-fd7c2d2c3eb9",
   "metadata": {},
   "outputs": [],
   "source": [
    "session_data['events_number'] = data.groupby(['user_id', 'user_session'])['event_time'].count().reset_index(drop=True)"
   ]
  },
  {
   "cell_type": "code",
   "execution_count": 206,
   "id": "14db6772-7975-479d-be31-3b9fb9e7305c",
   "metadata": {},
   "outputs": [],
   "source": [
    "session_data['time_of_session'] = data[['duration_to_next_event' , 'user_session']].groupby('user_session').sum().reset_index(drop=True)"
   ]
  },
  {
   "cell_type": "code",
   "execution_count": 207,
   "id": "edd6f5e7-5e02-4e2f-b619-c69a16eb848b",
   "metadata": {},
   "outputs": [],
   "source": [
    "session_data['list_of_viewed'] = data[data['event_type'] == 'view'].groupby(['user_id', 'user_session'])['product_id'].apply(list).reset_index(drop=True)"
   ]
  },
  {
   "cell_type": "code",
   "execution_count": 208,
   "id": "8b1f2210-4e6e-4fab-a35b-62c12bc072c0",
   "metadata": {},
   "outputs": [],
   "source": [
    "session_data['list_of_added_to_cart'] = data[data['event_type'] == 'cart'].groupby(['user_id', 'user_session'])['product_id'].apply(list).reset_index(drop=True)"
   ]
  },
  {
   "cell_type": "code",
   "execution_count": 209,
   "id": "660e48e7-796d-4722-9e99-19a149b26c04",
   "metadata": {},
   "outputs": [],
   "source": [
    "session_data['list_of_purchased'] = data[data['event_type'] == 'purchase'].groupby(['user_id', 'user_session'])['product_id'].apply(list).reset_index(drop=True)"
   ]
  },
  {
   "cell_type": "code",
   "execution_count": 211,
   "id": "41fd2f53-f09f-47f3-aa83-bf73272b2899",
   "metadata": {},
   "outputs": [
    {
     "data": {
      "text/html": [
       "<div>\n",
       "<style scoped>\n",
       "    .dataframe tbody tr th:only-of-type {\n",
       "        vertical-align: middle;\n",
       "    }\n",
       "\n",
       "    .dataframe tbody tr th {\n",
       "        vertical-align: top;\n",
       "    }\n",
       "\n",
       "    .dataframe thead th {\n",
       "        text-align: right;\n",
       "    }\n",
       "</style>\n",
       "<table border=\"1\" class=\"dataframe\">\n",
       "  <thead>\n",
       "    <tr style=\"text-align: right;\">\n",
       "      <th></th>\n",
       "      <th>user_id</th>\n",
       "      <th>user_session</th>\n",
       "      <th>funnel_number</th>\n",
       "      <th>index_in_funnel</th>\n",
       "      <th>events_number</th>\n",
       "      <th>time_of_session</th>\n",
       "      <th>list_of_viewed</th>\n",
       "      <th>list_of_added_to_cart</th>\n",
       "      <th>list_of_purchased</th>\n",
       "    </tr>\n",
       "  </thead>\n",
       "  <tbody>\n",
       "    <tr>\n",
       "      <th>0</th>\n",
       "      <td>1120748</td>\n",
       "      <td>d0484d94-7ac1-44e8-a310-2360da11ad9d</td>\n",
       "      <td>1</td>\n",
       "      <td>1</td>\n",
       "      <td>1.0</td>\n",
       "      <td>0.0</td>\n",
       "      <td>[5240]</td>\n",
       "      <td>[5745712, 49674, 5587748, 4590, 34763]</td>\n",
       "      <td>[5812033, 5724621, 5809910, 5811668]</td>\n",
       "    </tr>\n",
       "    <tr>\n",
       "      <th>1</th>\n",
       "      <td>1458813</td>\n",
       "      <td>b16644a2-44db-4650-8156-f6f03782d432</td>\n",
       "      <td>1</td>\n",
       "      <td>1</td>\n",
       "      <td>1.0</td>\n",
       "      <td>0.0</td>\n",
       "      <td>[5814066]</td>\n",
       "      <td>[5569506]</td>\n",
       "      <td>[5766379, 5614842]</td>\n",
       "    </tr>\n",
       "    <tr>\n",
       "      <th>2</th>\n",
       "      <td>1458813</td>\n",
       "      <td>6873a205-d9f5-4d51-b3eb-b4bfddfe907c</td>\n",
       "      <td>1</td>\n",
       "      <td>1</td>\n",
       "      <td>28.0</td>\n",
       "      <td>0.0</td>\n",
       "      <td>[5800358, 5800349, 5800349, 5800358, 5712576, ...</td>\n",
       "      <td>[5896421, 5841190, 5896422, 5896419]</td>\n",
       "      <td>[5809910, 5809911, 5809912, 5862544, 5870648, ...</td>\n",
       "    </tr>\n",
       "    <tr>\n",
       "      <th>3</th>\n",
       "      <td>1458813</td>\n",
       "      <td>921ff98c-a419-4132-af94-ee26880334b0</td>\n",
       "      <td>1</td>\n",
       "      <td>1</td>\n",
       "      <td>1.0</td>\n",
       "      <td>0.0</td>\n",
       "      <td>[5711087]</td>\n",
       "      <td>[5896421, 5896422]</td>\n",
       "      <td>[5850620, 5850625, 5850621, 5850619, 5816166, ...</td>\n",
       "    </tr>\n",
       "    <tr>\n",
       "      <th>4</th>\n",
       "      <td>1458813</td>\n",
       "      <td>ad1a2e9e-cc14-4b98-b70b-5dd539e76bba</td>\n",
       "      <td>1</td>\n",
       "      <td>1</td>\n",
       "      <td>1.0</td>\n",
       "      <td>151.0</td>\n",
       "      <td>[5711145]</td>\n",
       "      <td>[5811668, 5811668, 5724608, 5724658, 5724658, ...</td>\n",
       "      <td>[5846442, 5686083]</td>\n",
       "    </tr>\n",
       "    <tr>\n",
       "      <th>...</th>\n",
       "      <td>...</td>\n",
       "      <td>...</td>\n",
       "      <td>...</td>\n",
       "      <td>...</td>\n",
       "      <td>...</td>\n",
       "      <td>...</td>\n",
       "      <td>...</td>\n",
       "      <td>...</td>\n",
       "      <td>...</td>\n",
       "    </tr>\n",
       "    <tr>\n",
       "      <th>942377</th>\n",
       "      <td>579967088</td>\n",
       "      <td>670cb8b4-bef1-4ec7-bfe8-7c8317967c74</td>\n",
       "      <td>1</td>\n",
       "      <td>1</td>\n",
       "      <td>NaN</td>\n",
       "      <td>NaN</td>\n",
       "      <td>NaN</td>\n",
       "      <td>NaN</td>\n",
       "      <td>NaN</td>\n",
       "    </tr>\n",
       "    <tr>\n",
       "      <th>942378</th>\n",
       "      <td>579968012</td>\n",
       "      <td>547ad51a-cdf2-4a0a-b819-8061c012bcee</td>\n",
       "      <td>1</td>\n",
       "      <td>1</td>\n",
       "      <td>NaN</td>\n",
       "      <td>NaN</td>\n",
       "      <td>NaN</td>\n",
       "      <td>NaN</td>\n",
       "      <td>NaN</td>\n",
       "    </tr>\n",
       "    <tr>\n",
       "      <th>942379</th>\n",
       "      <td>579968623</td>\n",
       "      <td>a06e9a89-55ff-4c3a-abd6-aa4fdf808058</td>\n",
       "      <td>1</td>\n",
       "      <td>1</td>\n",
       "      <td>NaN</td>\n",
       "      <td>NaN</td>\n",
       "      <td>NaN</td>\n",
       "      <td>NaN</td>\n",
       "      <td>NaN</td>\n",
       "    </tr>\n",
       "    <tr>\n",
       "      <th>942380</th>\n",
       "      <td>579968937</td>\n",
       "      <td>878af093-7570-48ae-966c-d50ce61e390c</td>\n",
       "      <td>1</td>\n",
       "      <td>1</td>\n",
       "      <td>NaN</td>\n",
       "      <td>NaN</td>\n",
       "      <td>NaN</td>\n",
       "      <td>NaN</td>\n",
       "      <td>NaN</td>\n",
       "    </tr>\n",
       "    <tr>\n",
       "      <th>942381</th>\n",
       "      <td>579969854</td>\n",
       "      <td>e9fa2c3e-8c9e-448c-880a-21ca57c18b3b</td>\n",
       "      <td>1</td>\n",
       "      <td>1</td>\n",
       "      <td>NaN</td>\n",
       "      <td>NaN</td>\n",
       "      <td>NaN</td>\n",
       "      <td>NaN</td>\n",
       "      <td>NaN</td>\n",
       "    </tr>\n",
       "  </tbody>\n",
       "</table>\n",
       "<p>942382 rows × 9 columns</p>\n",
       "</div>"
      ],
      "text/plain": [
       "          user_id                          user_session  funnel_number  \\\n",
       "0         1120748  d0484d94-7ac1-44e8-a310-2360da11ad9d              1   \n",
       "1         1458813  b16644a2-44db-4650-8156-f6f03782d432              1   \n",
       "2         1458813  6873a205-d9f5-4d51-b3eb-b4bfddfe907c              1   \n",
       "3         1458813  921ff98c-a419-4132-af94-ee26880334b0              1   \n",
       "4         1458813  ad1a2e9e-cc14-4b98-b70b-5dd539e76bba              1   \n",
       "...           ...                                   ...            ...   \n",
       "942377  579967088  670cb8b4-bef1-4ec7-bfe8-7c8317967c74              1   \n",
       "942378  579968012  547ad51a-cdf2-4a0a-b819-8061c012bcee              1   \n",
       "942379  579968623  a06e9a89-55ff-4c3a-abd6-aa4fdf808058              1   \n",
       "942380  579968937  878af093-7570-48ae-966c-d50ce61e390c              1   \n",
       "942381  579969854  e9fa2c3e-8c9e-448c-880a-21ca57c18b3b              1   \n",
       "\n",
       "        index_in_funnel  events_number  time_of_session  \\\n",
       "0                     1            1.0              0.0   \n",
       "1                     1            1.0              0.0   \n",
       "2                     1           28.0              0.0   \n",
       "3                     1            1.0              0.0   \n",
       "4                     1            1.0            151.0   \n",
       "...                 ...            ...              ...   \n",
       "942377                1            NaN              NaN   \n",
       "942378                1            NaN              NaN   \n",
       "942379                1            NaN              NaN   \n",
       "942380                1            NaN              NaN   \n",
       "942381                1            NaN              NaN   \n",
       "\n",
       "                                           list_of_viewed  \\\n",
       "0                                                  [5240]   \n",
       "1                                               [5814066]   \n",
       "2       [5800358, 5800349, 5800349, 5800358, 5712576, ...   \n",
       "3                                               [5711087]   \n",
       "4                                               [5711145]   \n",
       "...                                                   ...   \n",
       "942377                                                NaN   \n",
       "942378                                                NaN   \n",
       "942379                                                NaN   \n",
       "942380                                                NaN   \n",
       "942381                                                NaN   \n",
       "\n",
       "                                    list_of_added_to_cart  \\\n",
       "0                  [5745712, 49674, 5587748, 4590, 34763]   \n",
       "1                                               [5569506]   \n",
       "2                    [5896421, 5841190, 5896422, 5896419]   \n",
       "3                                      [5896421, 5896422]   \n",
       "4       [5811668, 5811668, 5724608, 5724658, 5724658, ...   \n",
       "...                                                   ...   \n",
       "942377                                                NaN   \n",
       "942378                                                NaN   \n",
       "942379                                                NaN   \n",
       "942380                                                NaN   \n",
       "942381                                                NaN   \n",
       "\n",
       "                                        list_of_purchased  \n",
       "0                    [5812033, 5724621, 5809910, 5811668]  \n",
       "1                                      [5766379, 5614842]  \n",
       "2       [5809910, 5809911, 5809912, 5862544, 5870648, ...  \n",
       "3       [5850620, 5850625, 5850621, 5850619, 5816166, ...  \n",
       "4                                      [5846442, 5686083]  \n",
       "...                                                   ...  \n",
       "942377                                                NaN  \n",
       "942378                                                NaN  \n",
       "942379                                                NaN  \n",
       "942380                                                NaN  \n",
       "942381                                                NaN  \n",
       "\n",
       "[942382 rows x 9 columns]"
      ]
     },
     "execution_count": 211,
     "metadata": {},
     "output_type": "execute_result"
    }
   ],
   "source": [
    "session_data"
   ]
  }
 ],
 "metadata": {
  "kernelspec": {
   "display_name": "Python 3 (ipykernel)",
   "language": "python",
   "name": "python3"
  },
  "language_info": {
   "codemirror_mode": {
    "name": "ipython",
    "version": 3
   },
   "file_extension": ".py",
   "mimetype": "text/x-python",
   "name": "python",
   "nbconvert_exporter": "python",
   "pygments_lexer": "ipython3",
   "version": "3.10.4"
  }
 },
 "nbformat": 4,
 "nbformat_minor": 5
}
